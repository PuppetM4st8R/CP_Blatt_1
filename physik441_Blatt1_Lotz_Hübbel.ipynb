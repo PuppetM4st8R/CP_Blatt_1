{
 "cells": [
  {
   "cell_type": "code",
   "execution_count": 21,
   "metadata": {},
   "outputs": [
    {
     "name": "stdout",
     "output_type": "stream",
     "text": [
      "Durchlauf:  31635419\n",
      "Zeta_2:  1.6449340353029713\n",
      "Zeta_1:  1.6449340353029724\n",
      "Delta:  9.992009037599148e-16\n",
      "Difference:  1.1102230246251565e-15\n",
      "Durchlauf:  31635420\n",
      "Zeta_2:  1.6449340353029724\n",
      "Zeta_1:  1.6449340353029736\n",
      "Delta:  9.992008405901583e-16\n",
      "Difference:  1.1102230246251565e-15\n",
      "Durchlauf:  31635421\n",
      "Zeta_2:  1.6449340353029736\n",
      "Zeta_1:  1.6449340353029747\n",
      "Delta:  9.992007774204079e-16\n",
      "Difference:  1.1102230246251565e-15\n",
      "Durchlauf:  31635422\n",
      "Zeta_2:  1.6449340353029747\n",
      "Zeta_1:  1.6449340353029756\n",
      "Delta:  9.992007142506634e-16\n",
      "Difference:  8.881784197001252e-16\n",
      "1.6449340353029747\n",
      "1.6449340353029756\n",
      "8.881784197001252e-16\n",
      "31635422\n",
      "1.6449340668482264\n"
     ]
    },
    {
     "data": {
      "text/plain": [
       "[]"
      ]
     },
     "execution_count": 21,
     "metadata": {},
     "output_type": "execute_result"
    }
   ],
   "source": [
    "import scipy as sp\n",
    "import numpy as np\n",
    "import matplotlib.pyplot as plt\n",
    "\n",
    "'''\n",
    "Todo:\n",
    "\n",
    "Plots programmieren\n",
    "->Differenz gegen Summationsterm\n",
    "->Zeta array programmieren\n",
    "\n",
    "Variablennamen umbennen und sinnvolle Kommentare\n",
    "\n",
    "while-Schleife mit Abbruchkriterium implementieren\n",
    "\n",
    "Latex in Markdown\n",
    "'''\n",
    "\n",
    "\n",
    "\n",
    "#Entwicklungspunkt von Zeta\n",
    "s = 2\n",
    "zeta_1 = 0\n",
    "eps = 1*10**(-15)\n",
    "\n",
    "N_1= 10**15\n",
    "\n",
    "for n in range(1,N_1,1):\n",
    "    zeta_2=zeta_1\n",
    "    zeta_1=zeta_1+(1/n**s)\n",
    "    if n > 31635422-4:\n",
    "        print('Durchlauf: ', n)\n",
    "        print('Zeta_2: ',zeta_2)\n",
    "        print('Zeta_1: ',zeta_1)\n",
    "        print('Delta: ',1/n**s)\n",
    "        print('Difference: ',zeta_1-zeta_2)\n",
    "    if abs(zeta_2-zeta_1)<eps:\n",
    "        break\n",
    "\n",
    "\n",
    "        \n",
    "print(zeta_2)\n",
    "print(zeta_1)\n",
    "print(zeta_1-zeta_2)\n",
    "print(n)\n",
    "print(np.pi**2/6)\n",
    "\n",
    "n_array = arange(0,n,1)\n",
    "\n",
    "plt.plot(n_array,)"
   ]
  },
  {
   "cell_type": "markdown",
   "metadata": {},
   "source": [
    "Es ist zu erkennen dass die Differenz zwischen Zeta_1 und Zeta_2 nicht dem hinzuaddierten Term entspricht. Somit ist davon auszugehen dass die Maschinengenauigkeit nicht ausreicht um über einfache Summation die gewünschte Genauigkeit zu erhalten."
   ]
  },
  {
   "cell_type": "code",
   "execution_count": 65,
   "metadata": {},
   "outputs": [
    {
     "name": "stdout",
     "output_type": "stream",
     "text": [
      "-2.220446049250313e-16\n"
     ]
    }
   ],
   "source": [
    "import numpy as np\n",
    "import math as m\n",
    "\n",
    "#Anfangswerte\n",
    "s = 2\n",
    "\n",
    "#Berechnet Koeffizienten d\n",
    "def d(k,n):\n",
    "    d = 0\n",
    "    for j in range(k,n+1):\n",
    "        d = d + n*m.factorial(n+j-1)*4**j/(m.factorial(n-j)*m.factorial(2*j))\n",
    "    return d\n",
    "\n",
    "\n",
    "#Berechne die Riemann Zeta funktion\n",
    "def Zeta(n):\n",
    "    Zeta = 0\n",
    "    for k in range(1,n+1):\n",
    "        Zeta = Zeta + ((-1)**(k-1)*d(k,n))/(d(0,n)*(1-2**(1-s))*k**s)\n",
    "    return Zeta\n",
    "\n",
    "print(np.pi**2/6 - Zeta(22))    "
   ]
  },
  {
   "cell_type": "code",
   "execution_count": 71,
   "metadata": {},
   "outputs": [
    {
     "name": "stdout",
     "output_type": "stream",
     "text": [
      "1.3333333333333333\n",
      "1.6470588235294117\n",
      "1.6475869809203143\n",
      "1.6452917388792605\n",
      "1.6449810024118676\n",
      "1.6449401107653239\n",
      "1.6449348864773128\n",
      "1.6449341796359978\n",
      "1.6449340828966927\n",
      "1.6449340691579613\n",
      "1.6449340671878294\n",
      "1.6449340668985728\n",
      "1.6449340668558015\n",
      "1.6449340668493728\n",
      "1.644934066848402\n",
      "1.6449340668482537\n",
      "1.6449340668482304\n",
      "1.6449340668482269\n",
      "1.6449340668482266\n",
      "1.6449340668482262\n",
      "1.6449340668482264\n",
      "1.6449340668482269\n"
     ]
    },
    {
     "data": {
      "image/png": "[encoded data removed]",
      "text/plain": [
       "<Figure size 432x288 with 1 Axes>"
      ]
     },
     "metadata": {
      "needs_background": "light"
     },
     "output_type": "display_data"
    }
   ],
   "source": [
    "import matplotlib.pyplot as plt\n",
    "\n",
    "#Betrache Konvergenzverhalten\n",
    "Zeta_vals = []\n",
    "for i in range(1,22+1):\n",
    "    print(Zeta(i))\n",
    "    Zeta_vals.append(Zeta(i)-np.pi**2/6)\n",
    "    #print(Zeta_vals)\n",
    "\n",
    "\n",
    "\n",
    "plt.plot(Zeta_vals)\n",
    "plt.yscale('log')"
   ]
  },
  {
   "cell_type": "code",
   "execution_count": null,
   "metadata": {},
   "outputs": [],
   "source": []
  }
 ],
 "metadata": {
  "kernelspec": {
   "display_name": "Python 3",
   "language": "python",
   "name": "python3"
  },
  "language_info": {
   "codemirror_mode": {
    "name": "ipython",
    "version": 3
   },
   "file_extension": ".py",
   "mimetype": "text/x-python",
   "name": "python",
   "nbconvert_exporter": "python",
   "pygments_lexer": "ipython3",
   "version": "3.8.5"
  }
 },
 "nbformat": 4,
 "nbformat_minor": 2
}
