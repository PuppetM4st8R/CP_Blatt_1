{
 "cells": [
  {
   "cell_type": "markdown",
   "metadata": {},
   "source": [
    "# Einleitung:\n",
    "Die Riemann-Zeta-Funktion wird wie folgt definiert $\\zeta(s)=\\sum\\nolimits_{n=1}^\\infty\\frac{1}{n^s}=\\frac{1}{1^s}+\\frac{1}{2^s}+\\frac{1}{3^s}+...$\n",
    ". Zu Beginn wird in diesem Beispiel versucht die Riemann-Zeta-Funktion durch einfache Summation zu ermitteln. Dabei treten jedoch, wie unten beschrieben, gewisse Probleme auf. Aus diesem Grund wird durch die Mittelwertbildung versucht auf ein präziseres Ergebnis zukommen. Es bleiben jedoch weitere Probleme erhalten. Deshalb haben wir einen effizienteren Algorithmus implementiert, der auf Grund der Konvergenz alternierender Reihen funktioniert. Zu den jeweiligen Methoden gibt es Erklärungen und gegebenenfalls Plots in den unteren Abschnitten. Man beachte, dass wir nur $\\zeta(2)$ betrachten.\n",
    "# Einfache Summe:\n",
    "## Ansatz und Abbruchkriterium:\n",
    "In diesem Fall summieren wir von 1 bis hin zu N Iterationen und addieren in einer for-Schleife jeweils $\\frac{1}{n^2}$ für steigende n hinzu.\n",
    "Dadurch nähern wir uns dem erwarteten Wert von $2*\\pi/6$ an. Zudem verwenden wir ein Abbruchkriterium, um bei der gewollten Genauigkeit von $10^{-15}$ zu stoppen. Dabei sollte der vorherige Term(hier mit Delta beschrieben) der Ordnung $10^{-16}$ entsprechen. Wir vergleichen jeweils die Differenz zwischen dem Vorherigen(\"zeta_2\") und dem resultierendem Term(\"zeta_1\"). Fällt diese Differenz unter die zuvor erwähnte Genauigkeit endet der Algorithmus.     \n"
   ]
  },
  {
   "cell_type": "code",
   "execution_count": 47,
   "metadata": {},
   "outputs": [
    {
     "output_type": "stream",
     "name": "stdout",
     "text": [
      "Durchlauf:  31635422\nZeta_2:  1.6449340353029747\nZeta_1:  1.6449340353029756\nDelta:  9.992007142506634e-16\nDifference:  8.881784197001252e-16\n$2*\\pi/6:$ 1.6449340668482264\n"
     ]
    }
   ],
   "source": [
    "import scipy as sp\n",
    "import numpy as np\n",
    "import matplotlib.pyplot as plt\n",
    "\n",
    "\n",
    "#Variablen\n",
    "s = 2\n",
    "zeta_1 = 0\n",
    "eps = 1*10**(-15)\n",
    "N_1= 10**15\n",
    "\n",
    "\n",
    "for n in range(1,N_1+1):\n",
    "    zeta_2=zeta_1\n",
    "    zeta_1=zeta_1+(1/n**s)\n",
    "    if abs(zeta_2-zeta_1)<eps:\n",
    "        print('Durchlauf: ', n)\n",
    "        print('Zeta_2: ',zeta_2)\n",
    "        print('Zeta_1: ',zeta_1)\n",
    "        print('Delta: ',1/n**s)\n",
    "        print('Difference: ',zeta_1-zeta_2)\n",
    "        print('$2*\\pi/6:$',np.pi**2/6)\n",
    "        break"
   ]
  },
  {
   "cell_type": "markdown",
   "metadata": {},
   "source": [
    "## Problematik/Beobachtung:\n",
    "Es ist zu erkennen dass die Differenz zwischen Zeta_1 und Zeta_2 nicht dem hinzuaddierten Term entspricht. Somit ist davon auszugehen dass die Maschinengenauigkeit nicht ausreicht um über einfache Summation die gewünschte Genauigkeit zu erhalten.\n",
    "\n",
    "\n",
    "## Plot:"
   ]
  },
  {
   "cell_type": "code",
   "execution_count": null,
   "metadata": {},
   "outputs": [],
   "source": [
    "def Zeta(N):\n",
    "    zeta_1=0\n",
    "    for n in range(1,N+1):\n",
    "        zeta_2=zeta_1\n",
    "        zeta_1=zeta_1+(1/n**s)\n",
    "    return zeta_1\n",
    "    \n",
    "N=range(1,1000)\n",
    "\n",
    "#Plot\n",
    "plt.plot(N,[abs(Zeta(n)-np.pi**2/6) for n in N],label='$\\zeta(2)-2*\\pi/6$')\n",
    "plt.yscale('log')\n",
    "plt.xscale('log')\n",
    "plt.xlabel('N Iterationen')\n",
    "plt.ylabel('$\\zeta(2)-2*\\pi/6$')\n",
    "plt.title('Konvergenz')\n",
    "\n",
    "\n",
    "plt.xlim(1,10**3)\n",
    "\n",
    "# show a legend on the graph\n",
    "plt.legend()\n",
    "\n",
    "# show graph\n",
    "plt.show()\n"
   ]
  },
  {
   "source": [
    "## Beschreibung des Plots:\n",
    "In diesem Plot wird das Konvergenzverhalten der Summe dargestellt. Dafür haben wir die ersten 1000 Iterationen verwendet und logarithmisch die Differenz $\\zeta(2)-\\frac{2\\pi}{6}$ gegen die Anzahl an Iterationen aufgetragen. Man erkennt den logarithmischen Abfall Richtung 0, wodurch gezeigt wird das sich $\\zeta(2)$ an den erwarteten Wert von $\\frac{2\\pi}{6}$ annähert.\n",
    "\n",
    "\n"
   ],
   "cell_type": "markdown",
   "metadata": {}
  },
  {
   "cell_type": "markdown",
   "metadata": {},
   "source": [
    "# Fortgeschrittene Reihenbildung"
   ]
  },
  {
   "source": [
    "Schnellere Konvergenz von Thermen"
   ],
   "cell_type": "markdown",
   "metadata": {}
  },
  {
   "cell_type": "code",
   "execution_count": null,
   "metadata": {},
   "outputs": [],
   "source": [
    "s = 2\n",
    "\n",
    "#Verwende alternierende Reihe (-> Dirichlet Etafunktion)\n",
    "eta_1 = 0\n",
    "eps = 1*10**(-15)\n",
    "\n",
    "N_1= 10**15\n",
    "\n",
    "for n in range(1,N_1+1):\n",
    "    eta_2 = eta_1\n",
    "    eta_1 = eta_1 + (-1)**(n+1)/n**s\n",
    "    if abs(abs(eta_2)-abs(eta_1))<eps:\n",
    "        break\n",
    "print(eta_1*(1-2**(1-s)))\n",
    "print(n)"
   ]
  },
  {
   "cell_type": "markdown",
   "metadata": {},
   "source": [
    "# Bestes Konvergenzverhalten"
   ]
  },
  {
   "cell_type": "code",
   "execution_count": null,
   "metadata": {},
   "outputs": [],
   "source": [
    "import numpy as np\n",
    "import math as m\n",
    "\n",
    "#Anfangswerte\n",
    "s = 2\n",
    "\n",
    "#Berechnet Koeffizienten d\n",
    "def d(k,n):\n",
    "    d = 0\n",
    "    for j in range(k,n+1):\n",
    "        d = d + n*m.factorial(n+j-1)*4**j/(m.factorial(n-j)*m.factorial(2*j))\n",
    "    return d\n",
    "\n",
    "\n",
    "#Berechne die Riemann Zeta funktion\n",
    "def Zeta(n):\n",
    "    Zeta = 0\n",
    "    for k in range(1,n+1):\n",
    "        Zeta = Zeta + ((-1)**(k-1)*d(k,n))/(d(0,n)*(1-2**(1-s))*k**s)\n",
    "    return Zeta\n",
    "\n",
    "print(np.pi**2/6 - Zeta(22))    "
   ]
  },
  {
   "cell_type": "code",
   "execution_count": null,
   "metadata": {
    "scrolled": true
   },
   "outputs": [],
   "source": [
    "import matplotlib.pyplot as plt\n",
    "\n",
    "#Betrache Konvergenzverhalten\n",
    "Zeta_vals = []\n",
    "for i in range(1,22+1):\n",
    "    Zeta_vals.append(Zeta(i)-np.pi**2/6)\n",
    "    #print(Zeta_vals)\n",
    "\n",
    "\n",
    "\n",
    "plt.plot(Zeta_vals)\n",
    "plt.yscale('log')"
   ]
  },
  {
   "cell_type": "code",
   "execution_count": null,
   "metadata": {},
   "outputs": [],
   "source": []
  }
 ],
 "metadata": {
  "kernelspec": {
   "name": "python383jvsc74a57bd06cb436a7d2e0178b0e0b6f2344849afb50771d3c36e086426288fb913525a7da",
   "display_name": "Python 3.8.3 64-bit ('base': conda)"
  },
  "language_info": {
   "codemirror_mode": {
    "name": "ipython",
    "version": 3
   },
   "file_extension": ".py",
   "mimetype": "text/x-python",
   "name": "python",
   "nbconvert_exporter": "python",
   "pygments_lexer": "ipython3",
   "version": "3.8.3"
  }
 },
 "nbformat": 4,
 "nbformat_minor": 2
}